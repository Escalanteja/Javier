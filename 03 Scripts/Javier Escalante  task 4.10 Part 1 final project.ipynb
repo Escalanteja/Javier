{
 "cells": [
  {
   "cell_type": "markdown",
   "id": "05e6c298",
   "metadata": {},
   "source": [
    "## Table of Contents"
   ]
  },
  {
   "cell_type": "markdown",
   "id": "5584c069",
   "metadata": {},
   "source": [
    "## CONTENTS\n",
    "\n",
    "#### *Important note Due to the large dataset of the data and RAM, the main dataframe has a 30% random sample from the original dataframe at the end of 4.9.*\n",
    "\n",
    "#### 1. Importing libraries and data\n",
    "\n",
    "\n",
    "#### 2.  Data checks and preparation\n",
    "  \n",
    "\n",
    "#### 3. Addressing PII concerns\n",
    "   \n",
    "\n",
    "#### 4. Create regions, viewing region information, and region flags\n",
    "\n",
    "\n",
    "#### 5. Subset data    \n",
    "   \n",
    " \n",
    "    \n",
    "#### 6. Exclusion flag for low activity customers\n",
    "\n",
    "           \n",
    "#### NOTE: The dataframe going forward for normal activity customers is df3\n",
    "      \n",
    "#### 7. Customer profile variables\n",
    "\n",
    "\n",
    "#### 8.  Final overview of dataframe(s)\n",
    "#### 9.  Exporting file(s)\n"
   ]
  },
  {
   "cell_type": "code",
   "execution_count": 3,
   "id": "fae58847",
   "metadata": {},
   "outputs": [],
   "source": [
    "# import libraries\n",
    "import pandas as pd\n",
    "import numpy as np\n",
    "import os\n",
    "import matplotlib.pyplot as plt\n",
    "import seaborn as sns\n",
    "import scipy"
   ]
  },
  {
   "cell_type": "code",
   "execution_count": 4,
   "id": "5755b6ed",
   "metadata": {},
   "outputs": [],
   "source": [
    "path = r'C:\\Users\\Javier\\Documents\\Master Folder'"
   ]
  },
  {
   "cell_type": "code",
   "execution_count": 5,
   "id": "c0a882b1",
   "metadata": {},
   "outputs": [],
   "source": [
    "df = pd.read_pickle(os.path.join(path,'02 Data', 'Prepared Data', 'full_merged_data_task.pkl'))"
   ]
  },
  {
   "cell_type": "code",
   "execution_count": 6,
   "id": "6e19cc5f",
   "metadata": {},
   "outputs": [],
   "source": [
    "df_departments = pd.read_csv(os.path.join(path,'02 Data', 'Prepared Data', 'departments_wrangled.csv'), index_col = False)"
   ]
  },
  {
   "cell_type": "markdown",
   "id": "8cb95622",
   "metadata": {},
   "source": [
    "Data Checks and Preparation"
   ]
  },
  {
   "cell_type": "code",
   "execution_count": 7,
   "id": "31c1c1e2",
   "metadata": {},
   "outputs": [
    {
     "data": {
      "text/html": [
       "<div>\n",
       "<style scoped>\n",
       "    .dataframe tbody tr th:only-of-type {\n",
       "        vertical-align: middle;\n",
       "    }\n",
       "\n",
       "    .dataframe tbody tr th {\n",
       "        vertical-align: top;\n",
       "    }\n",
       "\n",
       "    .dataframe thead th {\n",
       "        text-align: right;\n",
       "    }\n",
       "</style>\n",
       "<table border=\"1\" class=\"dataframe\">\n",
       "  <thead>\n",
       "    <tr style=\"text-align: right;\">\n",
       "      <th></th>\n",
       "      <th>order_id</th>\n",
       "      <th>user_id</th>\n",
       "      <th>eval_set</th>\n",
       "      <th>order_number</th>\n",
       "      <th>orders_day_of_week</th>\n",
       "      <th>order_hour_of_day</th>\n",
       "      <th>days_since_prior_order</th>\n",
       "      <th>product_id</th>\n",
       "      <th>add_to_cart_order</th>\n",
       "      <th>reordered</th>\n",
       "      <th>...</th>\n",
       "      <th>frequency_flag</th>\n",
       "      <th>first_name</th>\n",
       "      <th>surname</th>\n",
       "      <th>gender</th>\n",
       "      <th>state</th>\n",
       "      <th>age</th>\n",
       "      <th>date_joined</th>\n",
       "      <th>no_of_dependants</th>\n",
       "      <th>marital_status</th>\n",
       "      <th>income</th>\n",
       "    </tr>\n",
       "  </thead>\n",
       "  <tbody>\n",
       "    <tr>\n",
       "      <th>0</th>\n",
       "      <td>2539329</td>\n",
       "      <td>1</td>\n",
       "      <td>prior</td>\n",
       "      <td>1</td>\n",
       "      <td>2</td>\n",
       "      <td>8</td>\n",
       "      <td>NaN</td>\n",
       "      <td>196</td>\n",
       "      <td>1</td>\n",
       "      <td>0</td>\n",
       "      <td>...</td>\n",
       "      <td>Non-frequent customer</td>\n",
       "      <td>Linda</td>\n",
       "      <td>Nguyen</td>\n",
       "      <td>Female</td>\n",
       "      <td>Alabama</td>\n",
       "      <td>31</td>\n",
       "      <td>2/17/2019</td>\n",
       "      <td>3</td>\n",
       "      <td>married</td>\n",
       "      <td>40423</td>\n",
       "    </tr>\n",
       "    <tr>\n",
       "      <th>1</th>\n",
       "      <td>2398795</td>\n",
       "      <td>1</td>\n",
       "      <td>prior</td>\n",
       "      <td>2</td>\n",
       "      <td>3</td>\n",
       "      <td>7</td>\n",
       "      <td>15.0</td>\n",
       "      <td>196</td>\n",
       "      <td>1</td>\n",
       "      <td>1</td>\n",
       "      <td>...</td>\n",
       "      <td>Non-frequent customer</td>\n",
       "      <td>Linda</td>\n",
       "      <td>Nguyen</td>\n",
       "      <td>Female</td>\n",
       "      <td>Alabama</td>\n",
       "      <td>31</td>\n",
       "      <td>2/17/2019</td>\n",
       "      <td>3</td>\n",
       "      <td>married</td>\n",
       "      <td>40423</td>\n",
       "    </tr>\n",
       "    <tr>\n",
       "      <th>2</th>\n",
       "      <td>473747</td>\n",
       "      <td>1</td>\n",
       "      <td>prior</td>\n",
       "      <td>3</td>\n",
       "      <td>3</td>\n",
       "      <td>12</td>\n",
       "      <td>21.0</td>\n",
       "      <td>196</td>\n",
       "      <td>1</td>\n",
       "      <td>1</td>\n",
       "      <td>...</td>\n",
       "      <td>Non-frequent customer</td>\n",
       "      <td>Linda</td>\n",
       "      <td>Nguyen</td>\n",
       "      <td>Female</td>\n",
       "      <td>Alabama</td>\n",
       "      <td>31</td>\n",
       "      <td>2/17/2019</td>\n",
       "      <td>3</td>\n",
       "      <td>married</td>\n",
       "      <td>40423</td>\n",
       "    </tr>\n",
       "    <tr>\n",
       "      <th>3</th>\n",
       "      <td>2254736</td>\n",
       "      <td>1</td>\n",
       "      <td>prior</td>\n",
       "      <td>4</td>\n",
       "      <td>4</td>\n",
       "      <td>7</td>\n",
       "      <td>29.0</td>\n",
       "      <td>196</td>\n",
       "      <td>1</td>\n",
       "      <td>1</td>\n",
       "      <td>...</td>\n",
       "      <td>Non-frequent customer</td>\n",
       "      <td>Linda</td>\n",
       "      <td>Nguyen</td>\n",
       "      <td>Female</td>\n",
       "      <td>Alabama</td>\n",
       "      <td>31</td>\n",
       "      <td>2/17/2019</td>\n",
       "      <td>3</td>\n",
       "      <td>married</td>\n",
       "      <td>40423</td>\n",
       "    </tr>\n",
       "    <tr>\n",
       "      <th>4</th>\n",
       "      <td>431534</td>\n",
       "      <td>1</td>\n",
       "      <td>prior</td>\n",
       "      <td>5</td>\n",
       "      <td>4</td>\n",
       "      <td>15</td>\n",
       "      <td>28.0</td>\n",
       "      <td>196</td>\n",
       "      <td>1</td>\n",
       "      <td>1</td>\n",
       "      <td>...</td>\n",
       "      <td>Non-frequent customer</td>\n",
       "      <td>Linda</td>\n",
       "      <td>Nguyen</td>\n",
       "      <td>Female</td>\n",
       "      <td>Alabama</td>\n",
       "      <td>31</td>\n",
       "      <td>2/17/2019</td>\n",
       "      <td>3</td>\n",
       "      <td>married</td>\n",
       "      <td>40423</td>\n",
       "    </tr>\n",
       "  </tbody>\n",
       "</table>\n",
       "<p>5 rows × 35 columns</p>\n",
       "</div>"
      ],
      "text/plain": [
       "   order_id user_id eval_set  order_number  orders_day_of_week  \\\n",
       "0   2539329       1    prior             1                   2   \n",
       "1   2398795       1    prior             2                   3   \n",
       "2    473747       1    prior             3                   3   \n",
       "3   2254736       1    prior             4                   4   \n",
       "4    431534       1    prior             5                   4   \n",
       "\n",
       "   order_hour_of_day  days_since_prior_order  product_id  add_to_cart_order  \\\n",
       "0                  8                     NaN         196                  1   \n",
       "1                  7                    15.0         196                  1   \n",
       "2                 12                    21.0         196                  1   \n",
       "3                  7                    29.0         196                  1   \n",
       "4                 15                    28.0         196                  1   \n",
       "\n",
       "   reordered  ...         frequency_flag first_name  surname  gender    state  \\\n",
       "0          0  ...  Non-frequent customer      Linda   Nguyen  Female  Alabama   \n",
       "1          1  ...  Non-frequent customer      Linda   Nguyen  Female  Alabama   \n",
       "2          1  ...  Non-frequent customer      Linda   Nguyen  Female  Alabama   \n",
       "3          1  ...  Non-frequent customer      Linda   Nguyen  Female  Alabama   \n",
       "4          1  ...  Non-frequent customer      Linda   Nguyen  Female  Alabama   \n",
       "\n",
       "  age date_joined no_of_dependants marital_status income  \n",
       "0  31   2/17/2019                3        married  40423  \n",
       "1  31   2/17/2019                3        married  40423  \n",
       "2  31   2/17/2019                3        married  40423  \n",
       "3  31   2/17/2019                3        married  40423  \n",
       "4  31   2/17/2019                3        married  40423  \n",
       "\n",
       "[5 rows x 35 columns]"
      ]
     },
     "execution_count": 7,
     "metadata": {},
     "output_type": "execute_result"
    }
   ],
   "source": [
    "# overview\n",
    "df.head()"
   ]
  },
  {
   "cell_type": "code",
   "execution_count": 8,
   "id": "3b73bdda",
   "metadata": {},
   "outputs": [
    {
     "name": "stdout",
     "output_type": "stream",
     "text": [
      "<class 'pandas.core.frame.DataFrame'>\n",
      "Int64Index: 32404859 entries, 0 to 32404858\n",
      "Data columns (total 35 columns):\n",
      " #   Column                  Dtype   \n",
      "---  ------                  -----   \n",
      " 0   order_id                int64   \n",
      " 1   user_id                 object  \n",
      " 2   eval_set                object  \n",
      " 3   order_number            int64   \n",
      " 4   orders_day_of_week      int64   \n",
      " 5   order_hour_of_day       int64   \n",
      " 6   days_since_prior_order  float64 \n",
      " 7   product_id              int64   \n",
      " 8   add_to_cart_order       int64   \n",
      " 9   reordered               int64   \n",
      " 10  Unnamed: 0              int64   \n",
      " 11  product_name            object  \n",
      " 12  aisle_id                int64   \n",
      " 13  department_id           int64   \n",
      " 14  prices                  float64 \n",
      " 15  _merge                  category\n",
      " 16  price_range_loc         object  \n",
      " 17  busiest_day             object  \n",
      " 18  busiest_days            object  \n",
      " 19  busiest_period_of_day   object  \n",
      " 20  max_order               int64   \n",
      " 21  loyalty_flag            object  \n",
      " 22  average_spending        float64 \n",
      " 23  spending_flag           object  \n",
      " 24  purchase_frequency      float64 \n",
      " 25  frequency_flag          object  \n",
      " 26  first_name              object  \n",
      " 27  surname                 object  \n",
      " 28  gender                  object  \n",
      " 29  state                   object  \n",
      " 30  age                     int8    \n",
      " 31  date_joined             object  \n",
      " 32  no_of_dependants        int8    \n",
      " 33  marital_status          object  \n",
      " 34  income                  int32   \n",
      "dtypes: category(1), float64(4), int32(1), int64(11), int8(2), object(16)\n",
      "memory usage: 7.9+ GB\n"
     ]
    }
   ],
   "source": [
    "# checking columns and datatypes\n",
    "df.info()"
   ]
  },
  {
   "cell_type": "code",
   "execution_count": 9,
   "id": "a3a481f2",
   "metadata": {},
   "outputs": [
    {
     "data": {
      "text/plain": [
       "(32404859, 35)"
      ]
     },
     "execution_count": 9,
     "metadata": {},
     "output_type": "execute_result"
    }
   ],
   "source": [
    "# checking columns/rows\n",
    "df.shape"
   ]
  },
  {
   "cell_type": "code",
   "execution_count": 10,
   "id": "21500817",
   "metadata": {},
   "outputs": [
    {
     "data": {
      "text/html": [
       "<div>\n",
       "<style scoped>\n",
       "    .dataframe tbody tr th:only-of-type {\n",
       "        vertical-align: middle;\n",
       "    }\n",
       "\n",
       "    .dataframe tbody tr th {\n",
       "        vertical-align: top;\n",
       "    }\n",
       "\n",
       "    .dataframe thead th {\n",
       "        text-align: right;\n",
       "    }\n",
       "</style>\n",
       "<table border=\"1\" class=\"dataframe\">\n",
       "  <thead>\n",
       "    <tr style=\"text-align: right;\">\n",
       "      <th></th>\n",
       "      <th>Unnamed: 0</th>\n",
       "      <th>product_id</th>\n",
       "      <th>product_name</th>\n",
       "      <th>aisle_id</th>\n",
       "      <th>department_id</th>\n",
       "      <th>prices</th>\n",
       "    </tr>\n",
       "  </thead>\n",
       "  <tbody>\n",
       "    <tr>\n",
       "      <th>0</th>\n",
       "      <td>0</td>\n",
       "      <td>1</td>\n",
       "      <td>Chocolate Sandwich Cookies</td>\n",
       "      <td>61</td>\n",
       "      <td>19</td>\n",
       "      <td>5.8</td>\n",
       "    </tr>\n",
       "    <tr>\n",
       "      <th>1</th>\n",
       "      <td>1</td>\n",
       "      <td>2</td>\n",
       "      <td>All-Seasons Salt</td>\n",
       "      <td>104</td>\n",
       "      <td>13</td>\n",
       "      <td>9.3</td>\n",
       "    </tr>\n",
       "    <tr>\n",
       "      <th>2</th>\n",
       "      <td>2</td>\n",
       "      <td>3</td>\n",
       "      <td>Robust Golden Unsweetened Oolong Tea</td>\n",
       "      <td>94</td>\n",
       "      <td>7</td>\n",
       "      <td>4.5</td>\n",
       "    </tr>\n",
       "    <tr>\n",
       "      <th>3</th>\n",
       "      <td>3</td>\n",
       "      <td>4</td>\n",
       "      <td>Smart Ones Classic Favorites Mini Rigatoni Wit...</td>\n",
       "      <td>38</td>\n",
       "      <td>1</td>\n",
       "      <td>10.5</td>\n",
       "    </tr>\n",
       "    <tr>\n",
       "      <th>4</th>\n",
       "      <td>4</td>\n",
       "      <td>5</td>\n",
       "      <td>Green Chile Anytime Sauce</td>\n",
       "      <td>5</td>\n",
       "      <td>13</td>\n",
       "      <td>4.3</td>\n",
       "    </tr>\n",
       "  </tbody>\n",
       "</table>\n",
       "</div>"
      ],
      "text/plain": [
       "   Unnamed: 0  product_id                                       product_name  \\\n",
       "0           0           1                         Chocolate Sandwich Cookies   \n",
       "1           1           2                                   All-Seasons Salt   \n",
       "2           2           3               Robust Golden Unsweetened Oolong Tea   \n",
       "3           3           4  Smart Ones Classic Favorites Mini Rigatoni Wit...   \n",
       "4           4           5                          Green Chile Anytime Sauce   \n",
       "\n",
       "   aisle_id  department_id  prices  \n",
       "0        61             19     5.8  \n",
       "1       104             13     9.3  \n",
       "2        94              7     4.5  \n",
       "3        38              1    10.5  \n",
       "4         5             13     4.3  "
      ]
     },
     "execution_count": 10,
     "metadata": {},
     "output_type": "execute_result"
    }
   ],
   "source": [
    "# dataframe overview\n",
    "df_departments.head()"
   ]
  },
  {
   "cell_type": "code",
   "execution_count": 11,
   "id": "5cc5a4e0",
   "metadata": {},
   "outputs": [
    {
     "name": "stdout",
     "output_type": "stream",
     "text": [
      "<class 'pandas.core.frame.DataFrame'>\n",
      "RangeIndex: 49693 entries, 0 to 49692\n",
      "Data columns (total 6 columns):\n",
      " #   Column         Non-Null Count  Dtype  \n",
      "---  ------         --------------  -----  \n",
      " 0   Unnamed: 0     49693 non-null  int64  \n",
      " 1   product_id     49693 non-null  int64  \n",
      " 2   product_name   49677 non-null  object \n",
      " 3   aisle_id       49693 non-null  int64  \n",
      " 4   department_id  49693 non-null  int64  \n",
      " 5   prices         49693 non-null  float64\n",
      "dtypes: float64(1), int64(4), object(1)\n",
      "memory usage: 2.3+ MB\n"
     ]
    }
   ],
   "source": [
    "# checking columns and datatypes\n",
    "df_departments.info()"
   ]
  },
  {
   "cell_type": "code",
   "execution_count": 12,
   "id": "549f2f42",
   "metadata": {},
   "outputs": [],
   "source": [
    "# changing datatype to reduce RAM\n",
    "df_departments['Unnamed: 0'] = df_departments['Unnamed: 0'].astype('int8')"
   ]
  },
  {
   "cell_type": "code",
   "execution_count": 13,
   "id": "64ddc3fb",
   "metadata": {},
   "outputs": [
    {
     "data": {
      "text/plain": [
       "(49693, 6)"
      ]
     },
     "execution_count": 13,
     "metadata": {},
     "output_type": "execute_result"
    }
   ],
   "source": [
    "# checking rows/columns\n",
    "df_departments.shape"
   ]
  },
  {
   "cell_type": "code",
   "execution_count": 14,
   "id": "901cf62a",
   "metadata": {},
   "outputs": [
    {
     "name": "stdout",
     "output_type": "stream",
     "text": [
      "CPU times: total: 26.7 s\n",
      "Wall time: 26.8 s\n"
     ]
    }
   ],
   "source": [
    "%%time\n",
    "# merging department names into one big dataframe\n",
    "df = df.merge(df_departments, how = 'inner', left_on='department_id', right_index=True)"
   ]
  },
  {
   "cell_type": "markdown",
   "id": "660b38d3",
   "metadata": {},
   "source": [
    "# Addressing PII conerns"
   ]
  },
  {
   "cell_type": "markdown",
   "id": "37ac6b3a",
   "metadata": {},
   "source": [
    "We are going to drop the customer first and last name due to customer_id being a good identirier for data. We are also gonna drop department_id, _merge, aisle_id and unamed to saved ram usage "
   ]
  },
  {
   "cell_type": "markdown",
   "id": "685d1b2b",
   "metadata": {},
   "source": [
    "### CReate regions, view data, and create flags"
   ]
  },
  {
   "cell_type": "code",
   "execution_count": 15,
   "id": "bceda067",
   "metadata": {},
   "outputs": [],
   "source": [
    "# create new dataframe with dropped columns\n",
    "df2 = df.drop(columns = ['first_name', 'surname', 'department_id', '_merge', 'Unnamed: 0_y'])"
   ]
  },
  {
   "cell_type": "code",
   "execution_count": 16,
   "id": "9c9112d0",
   "metadata": {},
   "outputs": [],
   "source": [
    "# creating region series with all appropriate states\n",
    "northeast = ['Maine', 'New Hampshire', 'Vermont', 'Massachusetts', 'Rhode Island', \n",
    "             'Connecticut', 'New York', 'Pennsylvania', 'New Jersey']\n",
    "midwest = ['Wisconsin', 'Michigan', 'Illinois', 'Indiana', 'Ohio',\n",
    "          'North Dakota', 'South Dakota', 'Nebraska', 'Kansas',\n",
    "          'Minnesota', 'Iowa', 'Missouri']\n",
    "south = ['Delaware', 'Maryland', 'District of Columbia', 'Virginia', 'West Virginia',\n",
    "         'North Carolina', 'South Carolina', 'Georgia', 'Florida', 'Kentucky', 'Tennessee',\n",
    "         'Mississippi', 'Alabama', 'Oklahoma', 'Texas', 'Arkansas', 'Louisiana']\n",
    "west = ['Idaho', 'Montana', 'Wyoming', 'Nevada', 'Utah', 'Colorado', 'Arizona',\n",
    "        'New Mexico', 'Alaska', 'Washington', 'Oregon', 'California', 'Hawaii']"
   ]
  },
  {
   "cell_type": "code",
   "execution_count": 17,
   "id": "feab666b",
   "metadata": {},
   "outputs": [],
   "source": [
    "# create new region column identifying the regions\n",
    "df2.loc[df2['state'].isin(northeast), 'region'] = 'northeast'\n",
    "df2.loc[df2['state'].isin(midwest), 'region'] = 'midwest'\n",
    "df2.loc[df2['state'].isin(south), 'region'] = 'south'\n",
    "df2.loc[df2['state'].isin(west), 'region'] = 'west'"
   ]
  },
  {
   "cell_type": "code",
   "execution_count": 18,
   "id": "3dcc39e1",
   "metadata": {},
   "outputs": [
    {
     "data": {
      "text/plain": [
       "south        10791885\n",
       "west          8292913\n",
       "midwest       7597325\n",
       "northeast     5722736\n",
       "Name: region, dtype: int64"
      ]
     },
     "execution_count": 18,
     "metadata": {},
     "output_type": "execute_result"
    }
   ],
   "source": [
    "# ensuring that all records were accounted for\n",
    "df2['region'].value_counts(dropna=False)"
   ]
  },
  {
   "cell_type": "markdown",
   "id": "d76b5f15",
   "metadata": {},
   "source": [
    "## Exploring data among the regions"
   ]
  },
  {
   "cell_type": "code",
   "execution_count": 19,
   "id": "02b0f0b1",
   "metadata": {},
   "outputs": [
    {
     "data": {
      "text/html": [
       "<div>\n",
       "<style scoped>\n",
       "    .dataframe tbody tr th:only-of-type {\n",
       "        vertical-align: middle;\n",
       "    }\n",
       "\n",
       "    .dataframe tbody tr th {\n",
       "        vertical-align: top;\n",
       "    }\n",
       "\n",
       "    .dataframe thead th {\n",
       "        text-align: right;\n",
       "    }\n",
       "</style>\n",
       "<table border=\"1\" class=\"dataframe\">\n",
       "  <thead>\n",
       "    <tr style=\"text-align: right;\">\n",
       "      <th></th>\n",
       "      <th>user_id</th>\n",
       "    </tr>\n",
       "    <tr>\n",
       "      <th>region</th>\n",
       "      <th></th>\n",
       "    </tr>\n",
       "  </thead>\n",
       "  <tbody>\n",
       "    <tr>\n",
       "      <th>south</th>\n",
       "      <td>68737</td>\n",
       "    </tr>\n",
       "    <tr>\n",
       "      <th>west</th>\n",
       "      <td>52565</td>\n",
       "    </tr>\n",
       "    <tr>\n",
       "      <th>midwest</th>\n",
       "      <td>48519</td>\n",
       "    </tr>\n",
       "    <tr>\n",
       "      <th>northeast</th>\n",
       "      <td>36388</td>\n",
       "    </tr>\n",
       "  </tbody>\n",
       "</table>\n",
       "</div>"
      ],
      "text/plain": [
       "           user_id\n",
       "region            \n",
       "south        68737\n",
       "west         52565\n",
       "midwest      48519\n",
       "northeast    36388"
      ]
     },
     "execution_count": 19,
     "metadata": {},
     "output_type": "execute_result"
    }
   ],
   "source": [
    "# checking frequency of regions\n",
    "df2[['region', 'user_id']].groupby('region').agg({'user_id': pd.Series.nunique,}).sort_values(by='user_id', ascending=False)"
   ]
  },
  {
   "cell_type": "markdown",
   "id": "b8dc8b4a",
   "metadata": {},
   "source": [
    "South has the most customers and northeast has the fewest"
   ]
  },
  {
   "cell_type": "code",
   "execution_count": 20,
   "id": "88e1a224",
   "metadata": {},
   "outputs": [
    {
     "data": {
      "text/html": [
       "<div>\n",
       "<style scoped>\n",
       "    .dataframe tbody tr th:only-of-type {\n",
       "        vertical-align: middle;\n",
       "    }\n",
       "\n",
       "    .dataframe tbody tr th {\n",
       "        vertical-align: top;\n",
       "    }\n",
       "\n",
       "    .dataframe thead th {\n",
       "        text-align: right;\n",
       "    }\n",
       "</style>\n",
       "<table border=\"1\" class=\"dataframe\">\n",
       "  <thead>\n",
       "    <tr style=\"text-align: right;\">\n",
       "      <th></th>\n",
       "      <th>state</th>\n",
       "    </tr>\n",
       "    <tr>\n",
       "      <th>region</th>\n",
       "      <th></th>\n",
       "    </tr>\n",
       "  </thead>\n",
       "  <tbody>\n",
       "    <tr>\n",
       "      <th>south</th>\n",
       "      <td>17</td>\n",
       "    </tr>\n",
       "    <tr>\n",
       "      <th>west</th>\n",
       "      <td>13</td>\n",
       "    </tr>\n",
       "    <tr>\n",
       "      <th>midwest</th>\n",
       "      <td>12</td>\n",
       "    </tr>\n",
       "    <tr>\n",
       "      <th>northeast</th>\n",
       "      <td>9</td>\n",
       "    </tr>\n",
       "  </tbody>\n",
       "</table>\n",
       "</div>"
      ],
      "text/plain": [
       "           state\n",
       "region          \n",
       "south         17\n",
       "west          13\n",
       "midwest       12\n",
       "northeast      9"
      ]
     },
     "execution_count": 20,
     "metadata": {},
     "output_type": "execute_result"
    }
   ],
   "source": [
    "# seeing how many states are in each region\n",
    "df2[['region', 'state']].groupby('region').agg({'state': pd.Series.nunique,}).sort_values(by='state', ascending=False)"
   ]
  },
  {
   "cell_type": "markdown",
   "id": "2821c164",
   "metadata": {},
   "source": [
    "There are most states in south and least in northeast which explains the customer difference"
   ]
  },
  {
   "cell_type": "code",
   "execution_count": 21,
   "id": "10c03bc5",
   "metadata": {},
   "outputs": [
    {
     "data": {
      "text/html": [
       "<div>\n",
       "<style scoped>\n",
       "    .dataframe tbody tr th:only-of-type {\n",
       "        vertical-align: middle;\n",
       "    }\n",
       "\n",
       "    .dataframe tbody tr th {\n",
       "        vertical-align: top;\n",
       "    }\n",
       "\n",
       "    .dataframe thead th {\n",
       "        text-align: right;\n",
       "    }\n",
       "</style>\n",
       "<table border=\"1\" class=\"dataframe\">\n",
       "  <thead>\n",
       "    <tr style=\"text-align: right;\">\n",
       "      <th></th>\n",
       "      <th>purchase_frequency</th>\n",
       "    </tr>\n",
       "    <tr>\n",
       "      <th>region</th>\n",
       "      <th></th>\n",
       "    </tr>\n",
       "  </thead>\n",
       "  <tbody>\n",
       "    <tr>\n",
       "      <th>south</th>\n",
       "      <td>112201594.0</td>\n",
       "    </tr>\n",
       "    <tr>\n",
       "      <th>west</th>\n",
       "      <td>85915806.5</td>\n",
       "    </tr>\n",
       "    <tr>\n",
       "      <th>midwest</th>\n",
       "      <td>79454509.0</td>\n",
       "    </tr>\n",
       "    <tr>\n",
       "      <th>northeast</th>\n",
       "      <td>59365954.5</td>\n",
       "    </tr>\n",
       "  </tbody>\n",
       "</table>\n",
       "</div>"
      ],
      "text/plain": [
       "           purchase_frequency\n",
       "region                       \n",
       "south             112201594.0\n",
       "west               85915806.5\n",
       "midwest            79454509.0\n",
       "northeast          59365954.5"
      ]
     },
     "execution_count": 21,
     "metadata": {},
     "output_type": "execute_result"
    }
   ],
   "source": [
    "# checking what region customers spend the most in sales\n",
    "df2[['purchase_frequency', 'region']].groupby('region').agg('sum').sort_values(by ='purchase_frequency', ascending=False)"
   ]
  },
  {
   "cell_type": "markdown",
   "id": "9c165df3",
   "metadata": {},
   "source": [
    "The south has the highest purchase frequency while the northeast has the least"
   ]
  },
  {
   "cell_type": "code",
   "execution_count": 22,
   "id": "547be75d",
   "metadata": {},
   "outputs": [
    {
     "name": "stdout",
     "output_type": "stream",
     "text": [
      "<class 'pandas.core.frame.DataFrame'>\n",
      "Int64Index: 32404859 entries, 0 to 32403040\n",
      "Data columns (total 38 columns):\n",
      " #   Column                  Dtype  \n",
      "---  ------                  -----  \n",
      " 0   order_id                int64  \n",
      " 1   user_id                 object \n",
      " 2   eval_set                object \n",
      " 3   order_number            int64  \n",
      " 4   orders_day_of_week      int64  \n",
      " 5   order_hour_of_day       int64  \n",
      " 6   days_since_prior_order  float64\n",
      " 7   product_id_x            int64  \n",
      " 8   add_to_cart_order       int64  \n",
      " 9   reordered               int64  \n",
      " 10  Unnamed: 0_x            int64  \n",
      " 11  product_name_x          object \n",
      " 12  aisle_id_x              int64  \n",
      " 13  department_id_x         int64  \n",
      " 14  prices_x                float64\n",
      " 15  price_range_loc         object \n",
      " 16  busiest_day             object \n",
      " 17  busiest_days            object \n",
      " 18  busiest_period_of_day   object \n",
      " 19  max_order               int64  \n",
      " 20  loyalty_flag            object \n",
      " 21  average_spending        float64\n",
      " 22  spending_flag           object \n",
      " 23  purchase_frequency      float64\n",
      " 24  frequency_flag          object \n",
      " 25  gender                  object \n",
      " 26  state                   object \n",
      " 27  age                     int8   \n",
      " 28  date_joined             object \n",
      " 29  no_of_dependants        int8   \n",
      " 30  marital_status          object \n",
      " 31  income                  int32  \n",
      " 32  product_id_y            int64  \n",
      " 33  product_name_y          object \n",
      " 34  aisle_id_y              int64  \n",
      " 35  department_id_y         int64  \n",
      " 36  prices_y                float64\n",
      " 37  region                  object \n",
      "dtypes: float64(5), int32(1), int64(14), int8(2), object(16)\n",
      "memory usage: 8.9+ GB\n"
     ]
    }
   ],
   "source": [
    "df2.info()"
   ]
  },
  {
   "cell_type": "code",
   "execution_count": 23,
   "id": "83344d7c",
   "metadata": {},
   "outputs": [
    {
     "data": {
      "text/html": [
       "<div>\n",
       "<style scoped>\n",
       "    .dataframe tbody tr th:only-of-type {\n",
       "        vertical-align: middle;\n",
       "    }\n",
       "\n",
       "    .dataframe tbody tr th {\n",
       "        vertical-align: top;\n",
       "    }\n",
       "\n",
       "    .dataframe thead th {\n",
       "        text-align: right;\n",
       "    }\n",
       "</style>\n",
       "<table border=\"1\" class=\"dataframe\">\n",
       "  <thead>\n",
       "    <tr style=\"text-align: right;\">\n",
       "      <th></th>\n",
       "      <th>product_id_x</th>\n",
       "    </tr>\n",
       "    <tr>\n",
       "      <th>region</th>\n",
       "      <th></th>\n",
       "    </tr>\n",
       "  </thead>\n",
       "  <tbody>\n",
       "    <tr>\n",
       "      <th>south</th>\n",
       "      <td>10791885</td>\n",
       "    </tr>\n",
       "    <tr>\n",
       "      <th>west</th>\n",
       "      <td>8292913</td>\n",
       "    </tr>\n",
       "    <tr>\n",
       "      <th>midwest</th>\n",
       "      <td>7597325</td>\n",
       "    </tr>\n",
       "    <tr>\n",
       "      <th>northeast</th>\n",
       "      <td>5722736</td>\n",
       "    </tr>\n",
       "  </tbody>\n",
       "</table>\n",
       "</div>"
      ],
      "text/plain": [
       "           product_id_x\n",
       "region                 \n",
       "south          10791885\n",
       "west            8292913\n",
       "midwest         7597325\n",
       "northeast       5722736"
      ]
     },
     "execution_count": 23,
     "metadata": {},
     "output_type": "execute_result"
    }
   ],
   "source": [
    "df2[['region', 'product_id_x']].groupby(['region']).agg('count').sort_values(by='product_id_x', ascending=False)"
   ]
  },
  {
   "cell_type": "code",
   "execution_count": 24,
   "id": "ecf29514",
   "metadata": {},
   "outputs": [],
   "source": [
    "# creating a new dataframe that summarizes the data by region\n",
    "df_region = df2[['prices_x', 'region', 'user_id', 'order_id']].groupby(['region']).agg({'prices_x':'sum', 'user_id': pd.Series.nunique, 'order_id' : pd.Series.nunique})"
   ]
  },
  {
   "cell_type": "code",
   "execution_count": 25,
   "id": "1844da86",
   "metadata": {},
   "outputs": [
    {
     "data": {
      "text/html": [
       "<div>\n",
       "<style scoped>\n",
       "    .dataframe tbody tr th:only-of-type {\n",
       "        vertical-align: middle;\n",
       "    }\n",
       "\n",
       "    .dataframe tbody tr th {\n",
       "        vertical-align: top;\n",
       "    }\n",
       "\n",
       "    .dataframe thead th {\n",
       "        text-align: right;\n",
       "    }\n",
       "</style>\n",
       "<table border=\"1\" class=\"dataframe\">\n",
       "  <thead>\n",
       "    <tr style=\"text-align: right;\">\n",
       "      <th></th>\n",
       "      <th>prices_x</th>\n",
       "      <th>user_id</th>\n",
       "      <th>order_id</th>\n",
       "    </tr>\n",
       "    <tr>\n",
       "      <th>region</th>\n",
       "      <th></th>\n",
       "      <th></th>\n",
       "      <th></th>\n",
       "    </tr>\n",
       "  </thead>\n",
       "  <tbody>\n",
       "    <tr>\n",
       "      <th>midwest</th>\n",
       "      <td>96603658.7</td>\n",
       "      <td>48519</td>\n",
       "      <td>754275</td>\n",
       "    </tr>\n",
       "    <tr>\n",
       "      <th>northeast</th>\n",
       "      <td>66126199.8</td>\n",
       "      <td>36388</td>\n",
       "      <td>567162</td>\n",
       "    </tr>\n",
       "    <tr>\n",
       "      <th>south</th>\n",
       "      <td>131613265.4</td>\n",
       "      <td>68737</td>\n",
       "      <td>1071562</td>\n",
       "    </tr>\n",
       "    <tr>\n",
       "      <th>west</th>\n",
       "      <td>93874398.7</td>\n",
       "      <td>52565</td>\n",
       "      <td>821686</td>\n",
       "    </tr>\n",
       "  </tbody>\n",
       "</table>\n",
       "</div>"
      ],
      "text/plain": [
       "              prices_x  user_id  order_id\n",
       "region                                   \n",
       "midwest     96603658.7    48519    754275\n",
       "northeast   66126199.8    36388    567162\n",
       "south      131613265.4    68737   1071562\n",
       "west        93874398.7    52565    821686"
      ]
     },
     "execution_count": 25,
     "metadata": {},
     "output_type": "execute_result"
    }
   ],
   "source": [
    "# viewing output\n",
    "df_region"
   ]
  },
  {
   "cell_type": "code",
   "execution_count": 26,
   "id": "2b2ef3d0",
   "metadata": {},
   "outputs": [],
   "source": [
    "# renaming the columns so that it is clear\n",
    "df_region = df_region.rename(columns={'prices':'sum_of_sales', 'user_id':'customer_count', 'order_id':'orders_placed'})"
   ]
  },
  {
   "cell_type": "code",
   "execution_count": 27,
   "id": "bc726e5b",
   "metadata": {},
   "outputs": [
    {
     "data": {
      "text/html": [
       "<div>\n",
       "<style scoped>\n",
       "    .dataframe tbody tr th:only-of-type {\n",
       "        vertical-align: middle;\n",
       "    }\n",
       "\n",
       "    .dataframe tbody tr th {\n",
       "        vertical-align: top;\n",
       "    }\n",
       "\n",
       "    .dataframe thead th {\n",
       "        text-align: right;\n",
       "    }\n",
       "</style>\n",
       "<table border=\"1\" class=\"dataframe\">\n",
       "  <thead>\n",
       "    <tr style=\"text-align: right;\">\n",
       "      <th></th>\n",
       "      <th>prices_x</th>\n",
       "      <th>customer_count</th>\n",
       "      <th>orders_placed</th>\n",
       "    </tr>\n",
       "    <tr>\n",
       "      <th>region</th>\n",
       "      <th></th>\n",
       "      <th></th>\n",
       "      <th></th>\n",
       "    </tr>\n",
       "  </thead>\n",
       "  <tbody>\n",
       "    <tr>\n",
       "      <th>midwest</th>\n",
       "      <td>96603658.7</td>\n",
       "      <td>48519</td>\n",
       "      <td>754275</td>\n",
       "    </tr>\n",
       "    <tr>\n",
       "      <th>northeast</th>\n",
       "      <td>66126199.8</td>\n",
       "      <td>36388</td>\n",
       "      <td>567162</td>\n",
       "    </tr>\n",
       "    <tr>\n",
       "      <th>south</th>\n",
       "      <td>131613265.4</td>\n",
       "      <td>68737</td>\n",
       "      <td>1071562</td>\n",
       "    </tr>\n",
       "    <tr>\n",
       "      <th>west</th>\n",
       "      <td>93874398.7</td>\n",
       "      <td>52565</td>\n",
       "      <td>821686</td>\n",
       "    </tr>\n",
       "  </tbody>\n",
       "</table>\n",
       "</div>"
      ],
      "text/plain": [
       "              prices_x  customer_count  orders_placed\n",
       "region                                               \n",
       "midwest     96603658.7           48519         754275\n",
       "northeast   66126199.8           36388         567162\n",
       "south      131613265.4           68737        1071562\n",
       "west        93874398.7           52565         821686"
      ]
     },
     "execution_count": 27,
     "metadata": {},
     "output_type": "execute_result"
    }
   ],
   "source": [
    "# viewing output\n",
    "df_region"
   ]
  },
  {
   "cell_type": "markdown",
   "id": "0e7d20b4",
   "metadata": {},
   "source": [
    "### Aggregate by region"
   ]
  },
  {
   "cell_type": "code",
   "execution_count": 28,
   "id": "c8c90553",
   "metadata": {},
   "outputs": [],
   "source": [
    "# creating column for average price per oder\n",
    "df_region['avg_price_per_order'] = df_region['prices_x']/df_region['orders_placed'] "
   ]
  },
  {
   "cell_type": "code",
   "execution_count": 29,
   "id": "9155de37",
   "metadata": {},
   "outputs": [],
   "source": [
    "# average price per customer\n",
    "df_region['avg_orders_per_customer'] = df_region['orders_placed']/df_region['customer_count']"
   ]
  },
  {
   "cell_type": "code",
   "execution_count": 30,
   "id": "ce1cd766",
   "metadata": {},
   "outputs": [
    {
     "data": {
      "text/html": [
       "<div>\n",
       "<style scoped>\n",
       "    .dataframe tbody tr th:only-of-type {\n",
       "        vertical-align: middle;\n",
       "    }\n",
       "\n",
       "    .dataframe tbody tr th {\n",
       "        vertical-align: top;\n",
       "    }\n",
       "\n",
       "    .dataframe thead th {\n",
       "        text-align: right;\n",
       "    }\n",
       "</style>\n",
       "<table border=\"1\" class=\"dataframe\">\n",
       "  <thead>\n",
       "    <tr style=\"text-align: right;\">\n",
       "      <th></th>\n",
       "      <th>prices_x</th>\n",
       "      <th>customer_count</th>\n",
       "      <th>orders_placed</th>\n",
       "      <th>avg_price_per_order</th>\n",
       "      <th>avg_orders_per_customer</th>\n",
       "    </tr>\n",
       "    <tr>\n",
       "      <th>region</th>\n",
       "      <th></th>\n",
       "      <th></th>\n",
       "      <th></th>\n",
       "      <th></th>\n",
       "      <th></th>\n",
       "    </tr>\n",
       "  </thead>\n",
       "  <tbody>\n",
       "    <tr>\n",
       "      <th>midwest</th>\n",
       "      <td>96603658.7</td>\n",
       "      <td>48519</td>\n",
       "      <td>754275</td>\n",
       "      <td>128.074852</td>\n",
       "      <td>15.545972</td>\n",
       "    </tr>\n",
       "    <tr>\n",
       "      <th>northeast</th>\n",
       "      <td>66126199.8</td>\n",
       "      <td>36388</td>\n",
       "      <td>567162</td>\n",
       "      <td>116.591379</td>\n",
       "      <td>15.586512</td>\n",
       "    </tr>\n",
       "    <tr>\n",
       "      <th>south</th>\n",
       "      <td>131613265.4</td>\n",
       "      <td>68737</td>\n",
       "      <td>1071562</td>\n",
       "      <td>122.823752</td>\n",
       "      <td>15.589304</td>\n",
       "    </tr>\n",
       "    <tr>\n",
       "      <th>west</th>\n",
       "      <td>93874398.7</td>\n",
       "      <td>52565</td>\n",
       "      <td>821686</td>\n",
       "      <td>114.246073</td>\n",
       "      <td>15.631808</td>\n",
       "    </tr>\n",
       "  </tbody>\n",
       "</table>\n",
       "</div>"
      ],
      "text/plain": [
       "              prices_x  customer_count  orders_placed  avg_price_per_order  \\\n",
       "region                                                                       \n",
       "midwest     96603658.7           48519         754275           128.074852   \n",
       "northeast   66126199.8           36388         567162           116.591379   \n",
       "south      131613265.4           68737        1071562           122.823752   \n",
       "west        93874398.7           52565         821686           114.246073   \n",
       "\n",
       "           avg_orders_per_customer  \n",
       "region                              \n",
       "midwest                  15.545972  \n",
       "northeast                15.586512  \n",
       "south                    15.589304  \n",
       "west                     15.631808  "
      ]
     },
     "execution_count": 30,
     "metadata": {},
     "output_type": "execute_result"
    }
   ],
   "source": [
    "# viewing dataframe\n",
    "df_region"
   ]
  },
  {
   "cell_type": "markdown",
   "id": "428ffc58",
   "metadata": {},
   "source": [
    "#### What region has the highest average price per customer? "
   ]
  },
  {
   "cell_type": "code",
   "execution_count": 31,
   "id": "1ef80c66",
   "metadata": {},
   "outputs": [
    {
     "data": {
      "text/html": [
       "<div>\n",
       "<style scoped>\n",
       "    .dataframe tbody tr th:only-of-type {\n",
       "        vertical-align: middle;\n",
       "    }\n",
       "\n",
       "    .dataframe tbody tr th {\n",
       "        vertical-align: top;\n",
       "    }\n",
       "\n",
       "    .dataframe thead th {\n",
       "        text-align: right;\n",
       "    }\n",
       "</style>\n",
       "<table border=\"1\" class=\"dataframe\">\n",
       "  <thead>\n",
       "    <tr style=\"text-align: right;\">\n",
       "      <th></th>\n",
       "      <th>prices_x</th>\n",
       "      <th>customer_count</th>\n",
       "      <th>orders_placed</th>\n",
       "      <th>avg_price_per_order</th>\n",
       "      <th>avg_orders_per_customer</th>\n",
       "    </tr>\n",
       "    <tr>\n",
       "      <th>region</th>\n",
       "      <th></th>\n",
       "      <th></th>\n",
       "      <th></th>\n",
       "      <th></th>\n",
       "      <th></th>\n",
       "    </tr>\n",
       "  </thead>\n",
       "  <tbody>\n",
       "    <tr>\n",
       "      <th>south</th>\n",
       "      <td>131613265.4</td>\n",
       "      <td>68737</td>\n",
       "      <td>1071562</td>\n",
       "      <td>122.823752</td>\n",
       "      <td>15.589304</td>\n",
       "    </tr>\n",
       "    <tr>\n",
       "      <th>midwest</th>\n",
       "      <td>96603658.7</td>\n",
       "      <td>48519</td>\n",
       "      <td>754275</td>\n",
       "      <td>128.074852</td>\n",
       "      <td>15.545972</td>\n",
       "    </tr>\n",
       "    <tr>\n",
       "      <th>west</th>\n",
       "      <td>93874398.7</td>\n",
       "      <td>52565</td>\n",
       "      <td>821686</td>\n",
       "      <td>114.246073</td>\n",
       "      <td>15.631808</td>\n",
       "    </tr>\n",
       "    <tr>\n",
       "      <th>northeast</th>\n",
       "      <td>66126199.8</td>\n",
       "      <td>36388</td>\n",
       "      <td>567162</td>\n",
       "      <td>116.591379</td>\n",
       "      <td>15.586512</td>\n",
       "    </tr>\n",
       "  </tbody>\n",
       "</table>\n",
       "</div>"
      ],
      "text/plain": [
       "              prices_x  customer_count  orders_placed  avg_price_per_order  \\\n",
       "region                                                                       \n",
       "south      131613265.4           68737        1071562           122.823752   \n",
       "midwest     96603658.7           48519         754275           128.074852   \n",
       "west        93874398.7           52565         821686           114.246073   \n",
       "northeast   66126199.8           36388         567162           116.591379   \n",
       "\n",
       "           avg_orders_per_customer  \n",
       "region                              \n",
       "south                    15.589304  \n",
       "midwest                  15.545972  \n",
       "west                     15.631808  \n",
       "northeast                15.586512  "
      ]
     },
     "execution_count": 31,
     "metadata": {},
     "output_type": "execute_result"
    }
   ],
   "source": [
    "# viewing sorted data by price per customer to see what region customers spend the most in\n",
    "df_region.sort_values(by='prices_x', ascending=False)"
   ]
  },
  {
   "cell_type": "markdown",
   "id": "912da68e",
   "metadata": {},
   "source": [
    "Result is the south has more because most likely it has the most states with more sales and more orders placed"
   ]
  },
  {
   "cell_type": "markdown",
   "id": "d4a0052e",
   "metadata": {},
   "source": [
    "# subset data"
   ]
  },
  {
   "cell_type": "markdown",
   "id": "74c9bdbe",
   "metadata": {},
   "source": [
    "#### Create customer and order subset with no duplicates"
   ]
  },
  {
   "cell_type": "code",
   "execution_count": 32,
   "id": "a02e0ba2",
   "metadata": {},
   "outputs": [
    {
     "data": {
      "text/plain": [
       "(206209, 38)"
      ]
     },
     "execution_count": 32,
     "metadata": {},
     "output_type": "execute_result"
    }
   ],
   "source": [
    "# create a dataframe that just lists customers\n",
    "customers = df2.drop_duplicates(subset=['user_id'])\n",
    "customers.shape"
   ]
  },
  {
   "cell_type": "code",
   "execution_count": 33,
   "id": "e76b001f",
   "metadata": {},
   "outputs": [
    {
     "data": {
      "text/plain": [
       "(3214685, 38)"
      ]
     },
     "execution_count": 33,
     "metadata": {},
     "output_type": "execute_result"
    }
   ],
   "source": [
    "# create a dataframe that lists just orders\n",
    "df_orders = df2.drop_duplicates(subset='order_id').copy()\n",
    "df_orders.shape"
   ]
  },
  {
   "cell_type": "markdown",
   "id": "8163ec99",
   "metadata": {},
   "source": [
    "## Crosstabl for customer loyalty in regions"
   ]
  },
  {
   "cell_type": "code",
   "execution_count": 34,
   "id": "164e472e",
   "metadata": {},
   "outputs": [
    {
     "data": {
      "text/html": [
       "<div>\n",
       "<style scoped>\n",
       "    .dataframe tbody tr th:only-of-type {\n",
       "        vertical-align: middle;\n",
       "    }\n",
       "\n",
       "    .dataframe tbody tr th {\n",
       "        vertical-align: top;\n",
       "    }\n",
       "\n",
       "    .dataframe thead th {\n",
       "        text-align: right;\n",
       "    }\n",
       "</style>\n",
       "<table border=\"1\" class=\"dataframe\">\n",
       "  <thead>\n",
       "    <tr style=\"text-align: right;\">\n",
       "      <th>loyalty_flag</th>\n",
       "      <th>Loyal customer</th>\n",
       "      <th>New customer</th>\n",
       "      <th>Regular customer</th>\n",
       "    </tr>\n",
       "    <tr>\n",
       "      <th>region</th>\n",
       "      <th></th>\n",
       "      <th></th>\n",
       "      <th></th>\n",
       "    </tr>\n",
       "  </thead>\n",
       "  <tbody>\n",
       "    <tr>\n",
       "      <th>midwest</th>\n",
       "      <td>3991</td>\n",
       "      <td>26333</td>\n",
       "      <td>18195</td>\n",
       "    </tr>\n",
       "    <tr>\n",
       "      <th>northeast</th>\n",
       "      <td>3027</td>\n",
       "      <td>19869</td>\n",
       "      <td>13492</td>\n",
       "    </tr>\n",
       "    <tr>\n",
       "      <th>south</th>\n",
       "      <td>5637</td>\n",
       "      <td>37491</td>\n",
       "      <td>25609</td>\n",
       "    </tr>\n",
       "    <tr>\n",
       "      <th>west</th>\n",
       "      <td>4362</td>\n",
       "      <td>28635</td>\n",
       "      <td>19568</td>\n",
       "    </tr>\n",
       "  </tbody>\n",
       "</table>\n",
       "</div>"
      ],
      "text/plain": [
       "loyalty_flag  Loyal customer  New customer  Regular customer\n",
       "region                                                      \n",
       "midwest                 3991         26333             18195\n",
       "northeast               3027         19869             13492\n",
       "south                   5637         37491             25609\n",
       "west                    4362         28635             19568"
      ]
     },
     "execution_count": 34,
     "metadata": {},
     "output_type": "execute_result"
    }
   ],
   "source": [
    "# using crosstab to view cutomer loyalty in the each region\n",
    "cross_customers=pd.crosstab(customers['region'], customers['loyalty_flag'], dropna=False)\n",
    "cross_customers"
   ]
  },
  {
   "cell_type": "markdown",
   "id": "db43fd68",
   "metadata": {},
   "source": [
    "South has most loyal, new and regular customers while northeast has the fewest\n"
   ]
  },
  {
   "cell_type": "markdown",
   "id": "425e41d6",
   "metadata": {},
   "source": [
    "### Percentage of customers in region based off population"
   ]
  },
  {
   "cell_type": "code",
   "execution_count": 35,
   "id": "bb9fdafc",
   "metadata": {},
   "outputs": [
    {
     "name": "stdout",
     "output_type": "stream",
     "text": [
      "midwest:  8.26 %\n",
      "northeast:  8.35 %\n",
      "south:  8.23 %\n",
      "west:  8.33 %\n"
     ]
    }
   ],
   "source": [
    "#### viewing percentage of customers in each region based on region population\n",
    "print('midwest: ', round(cross_customers.iloc[0,0]/48346*100, 2),'%')\n",
    "print('northeast: ', round(cross_customers.iloc[1,0]/36255*100, 2),'%')\n",
    "print('south: ', round(cross_customers.iloc[2,0]/68464*100, 2),'%')\n",
    "print('west: ', round(cross_customers.iloc[3,0]/52375*100, 2),'%')"
   ]
  },
  {
   "cell_type": "markdown",
   "id": "e9cc00a4",
   "metadata": {},
   "source": [
    "All regions are fairly simliar within loual customers however it shows the northeast has the most loyal customers"
   ]
  },
  {
   "cell_type": "markdown",
   "id": "53cbf276",
   "metadata": {},
   "source": [
    "## creating exclusion flag for low active customers"
   ]
  },
  {
   "cell_type": "code",
   "execution_count": 36,
   "id": "9138847b",
   "metadata": {},
   "outputs": [
    {
     "data": {
      "text/plain": [
       "Normal activity customer    30964564\n",
       "Low activity customer        1440295\n",
       "Name: exclusion_flag, dtype: int64"
      ]
     },
     "execution_count": 36,
     "metadata": {},
     "output_type": "execute_result"
    }
   ],
   "source": [
    "# creating exclusion flag\n",
    "df2.loc[df2['max_order'] < 5, 'exclusion_flag'] = 'Low activity customer'\n",
    "df2.loc[df2['max_order']>= 5, 'exclusion_flag'] = 'Normal activity customer'\n",
    "df2['exclusion_flag'].value_counts(dropna=False)"
   ]
  },
  {
   "cell_type": "code",
   "execution_count": 37,
   "id": "2a8b7de8",
   "metadata": {},
   "outputs": [
    {
     "data": {
      "text/plain": [
       "(1440295, 39)"
      ]
     },
     "execution_count": 37,
     "metadata": {},
     "output_type": "execute_result"
    }
   ],
   "source": [
    "# creating subset dataframe for low activity customers \n",
    "df_low_activity = df2[df2['exclusion_flag']=='Low activity customer']\n",
    "df_low_activity.shape"
   ]
  },
  {
   "cell_type": "code",
   "execution_count": 38,
   "id": "a34cfa4c",
   "metadata": {},
   "outputs": [
    {
     "data": {
      "text/plain": [
       "(30964564, 39)"
      ]
     },
     "execution_count": 38,
     "metadata": {},
     "output_type": "execute_result"
    }
   ],
   "source": [
    "# creating subset dataframe for normal activity customers\n",
    "df3 = df2[df2['exclusion_flag']=='Normal activity customer'].copy()\n",
    "df3.shape"
   ]
  },
  {
   "cell_type": "code",
   "execution_count": 39,
   "id": "afe40411",
   "metadata": {},
   "outputs": [
    {
     "data": {
      "text/plain": [
       "Normal activity customer    30964564\n",
       "Name: exclusion_flag, dtype: int64"
      ]
     },
     "execution_count": 39,
     "metadata": {},
     "output_type": "execute_result"
    }
   ],
   "source": [
    "df3.exclusion_flag.value_counts()"
   ]
  },
  {
   "cell_type": "code",
   "execution_count": 40,
   "id": "b4ba6318",
   "metadata": {},
   "outputs": [
    {
     "name": "stdout",
     "output_type": "stream",
     "text": [
      "['Normal activity customer']\n"
     ]
    }
   ],
   "source": [
    "print(df3['exclusion_flag'].unique())"
   ]
  },
  {
   "cell_type": "code",
   "execution_count": 41,
   "id": "c59274a1",
   "metadata": {},
   "outputs": [
    {
     "data": {
      "text/plain": [
       "Normal activity customer    30964564\n",
       "Name: exclusion_flag, dtype: int64"
      ]
     },
     "execution_count": 41,
     "metadata": {},
     "output_type": "execute_result"
    }
   ],
   "source": [
    "# making certain there are no missing values\n",
    "df3['exclusion_flag'].value_counts(dropna = False)\n"
   ]
  },
  {
   "cell_type": "code",
   "execution_count": 42,
   "id": "c2655578",
   "metadata": {},
   "outputs": [],
   "source": [
    "# exporting low activity customer subset\n",
    "df_low_activity.to_pickle(os.path.join(path, '02 Data','Prepared Data', '4.10_low_activity_customers_javierEscalante.pkl'))"
   ]
  },
  {
   "cell_type": "code",
   "execution_count": 43,
   "id": "20ef7206",
   "metadata": {},
   "outputs": [],
   "source": [
    "# exporting normal activity customer subset\n",
    "df3.to_pickle(os.path.join(path, '02 Data','Prepared Data', '4.10_normal_activity_customers_javierescalante.pkl'))"
   ]
  },
  {
   "cell_type": "markdown",
   "id": "5a72b303",
   "metadata": {},
   "source": [
    "### Customer variables"
   ]
  },
  {
   "cell_type": "markdown",
   "id": "32b00ffa",
   "metadata": {},
   "source": [
    "##### AGE RANGES"
   ]
  },
  {
   "cell_type": "code",
   "execution_count": 44,
   "id": "49ed7688",
   "metadata": {},
   "outputs": [
    {
     "data": {
      "text/plain": [
       "2    14030215\n",
       "1     8738805\n",
       "3     8195544\n",
       "Name: age_range, dtype: int64"
      ]
     },
     "execution_count": 44,
     "metadata": {},
     "output_type": "execute_result"
    }
   ],
   "source": [
    "# using .loc to divide ages of customers\n",
    "df3.loc[(df3['age'] >= 18) & (df3['age'] <= 35), 'age_range'] = '1'\n",
    "df3.loc[(df3['age'] > 35) & (df3['age'] <= 64), 'age_range'] = '2'\n",
    "df3.loc[(df3['age'] > 64), 'age_range'] = '3'\n",
    "df3['age_range'].value_counts()"
   ]
  },
  {
   "cell_type": "markdown",
   "id": "2791f816",
   "metadata": {},
   "source": [
    "Most common instacart range is from 36 to 64 years of age"
   ]
  },
  {
   "cell_type": "markdown",
   "id": "127bd349",
   "metadata": {},
   "source": [
    "## Tome of day brackets"
   ]
  },
  {
   "cell_type": "markdown",
   "id": "ad39ae2b",
   "metadata": {},
   "source": [
    "Time of day breakdown: \n",
    "* 12:00 am - 05:59 am = early morning\n",
    "* 06:00 am - 11:59 pm = morning\n",
    "* 12:00 pm - 04:59 pm = afternoon\n",
    "* 05:00 pm - 07:59 pm = evening\n",
    "* 08:00 pm - 11:59 pm = night"
   ]
  },
  {
   "cell_type": "code",
   "execution_count": 45,
   "id": "fc8165fe",
   "metadata": {},
   "outputs": [
    {
     "data": {
      "text/plain": [
       "afternoon        1304945\n",
       "morning          1067077\n",
       "evening           516677\n",
       "night             266686\n",
       "early_morning      37929\n",
       "Name: time_of_day, dtype: int64"
      ]
     },
     "execution_count": 45,
     "metadata": {},
     "output_type": "execute_result"
    }
   ],
   "source": [
    "# creating a list to break down certain periods of the day\n",
    "df_orders.loc[(df_orders['order_hour_of_day'] > 0) & (df_orders['order_hour_of_day'] < 6), 'time_of_day'] = 'early_morning'\n",
    "df_orders.loc[(df_orders['order_hour_of_day'] >= 6) & (df_orders['order_hour_of_day'] < 12), 'time_of_day'] = 'morning'\n",
    "df_orders.loc[(df_orders['order_hour_of_day'] >= 12) & (df_orders['order_hour_of_day'] < 17), 'time_of_day'] = 'afternoon'\n",
    "df_orders.loc[(df_orders['order_hour_of_day'] >= 17) & (df_orders['order_hour_of_day'] < 20), 'time_of_day'] = 'evening'\n",
    "df_orders.loc[(df_orders['order_hour_of_day'] >= 20) & (df_orders['order_hour_of_day'] < 24), 'time_of_day'] = 'night'\n",
    "df_orders['time_of_day'].value_counts()"
   ]
  },
  {
   "cell_type": "code",
   "execution_count": 46,
   "id": "87d9c4eb",
   "metadata": {},
   "outputs": [
    {
     "data": {
      "text/html": [
       "<div>\n",
       "<style scoped>\n",
       "    .dataframe tbody tr th:only-of-type {\n",
       "        vertical-align: middle;\n",
       "    }\n",
       "\n",
       "    .dataframe tbody tr th {\n",
       "        vertical-align: top;\n",
       "    }\n",
       "\n",
       "    .dataframe thead th {\n",
       "        text-align: right;\n",
       "    }\n",
       "</style>\n",
       "<table border=\"1\" class=\"dataframe\">\n",
       "  <thead>\n",
       "    <tr style=\"text-align: right;\">\n",
       "      <th></th>\n",
       "      <th>order_id</th>\n",
       "      <th>user_id</th>\n",
       "      <th>eval_set</th>\n",
       "      <th>order_number</th>\n",
       "      <th>orders_day_of_week</th>\n",
       "      <th>order_hour_of_day</th>\n",
       "      <th>days_since_prior_order</th>\n",
       "      <th>product_id_x</th>\n",
       "      <th>add_to_cart_order</th>\n",
       "      <th>reordered</th>\n",
       "      <th>...</th>\n",
       "      <th>no_of_dependants</th>\n",
       "      <th>marital_status</th>\n",
       "      <th>income</th>\n",
       "      <th>product_id_y</th>\n",
       "      <th>product_name_y</th>\n",
       "      <th>aisle_id_y</th>\n",
       "      <th>department_id_y</th>\n",
       "      <th>prices_y</th>\n",
       "      <th>region</th>\n",
       "      <th>time_of_day</th>\n",
       "    </tr>\n",
       "  </thead>\n",
       "  <tbody>\n",
       "    <tr>\n",
       "      <th>0</th>\n",
       "      <td>2539329</td>\n",
       "      <td>1</td>\n",
       "      <td>prior</td>\n",
       "      <td>1</td>\n",
       "      <td>2</td>\n",
       "      <td>8</td>\n",
       "      <td>NaN</td>\n",
       "      <td>196</td>\n",
       "      <td>1</td>\n",
       "      <td>0</td>\n",
       "      <td>...</td>\n",
       "      <td>3</td>\n",
       "      <td>married</td>\n",
       "      <td>40423</td>\n",
       "      <td>8</td>\n",
       "      <td>Cut Russet Potatoes Steam N' Mash</td>\n",
       "      <td>116</td>\n",
       "      <td>1</td>\n",
       "      <td>1.1</td>\n",
       "      <td>south</td>\n",
       "      <td>morning</td>\n",
       "    </tr>\n",
       "    <tr>\n",
       "      <th>1</th>\n",
       "      <td>2398795</td>\n",
       "      <td>1</td>\n",
       "      <td>prior</td>\n",
       "      <td>2</td>\n",
       "      <td>3</td>\n",
       "      <td>7</td>\n",
       "      <td>15.0</td>\n",
       "      <td>196</td>\n",
       "      <td>1</td>\n",
       "      <td>1</td>\n",
       "      <td>...</td>\n",
       "      <td>3</td>\n",
       "      <td>married</td>\n",
       "      <td>40423</td>\n",
       "      <td>8</td>\n",
       "      <td>Cut Russet Potatoes Steam N' Mash</td>\n",
       "      <td>116</td>\n",
       "      <td>1</td>\n",
       "      <td>1.1</td>\n",
       "      <td>south</td>\n",
       "      <td>morning</td>\n",
       "    </tr>\n",
       "    <tr>\n",
       "      <th>2</th>\n",
       "      <td>473747</td>\n",
       "      <td>1</td>\n",
       "      <td>prior</td>\n",
       "      <td>3</td>\n",
       "      <td>3</td>\n",
       "      <td>12</td>\n",
       "      <td>21.0</td>\n",
       "      <td>196</td>\n",
       "      <td>1</td>\n",
       "      <td>1</td>\n",
       "      <td>...</td>\n",
       "      <td>3</td>\n",
       "      <td>married</td>\n",
       "      <td>40423</td>\n",
       "      <td>8</td>\n",
       "      <td>Cut Russet Potatoes Steam N' Mash</td>\n",
       "      <td>116</td>\n",
       "      <td>1</td>\n",
       "      <td>1.1</td>\n",
       "      <td>south</td>\n",
       "      <td>afternoon</td>\n",
       "    </tr>\n",
       "    <tr>\n",
       "      <th>3</th>\n",
       "      <td>2254736</td>\n",
       "      <td>1</td>\n",
       "      <td>prior</td>\n",
       "      <td>4</td>\n",
       "      <td>4</td>\n",
       "      <td>7</td>\n",
       "      <td>29.0</td>\n",
       "      <td>196</td>\n",
       "      <td>1</td>\n",
       "      <td>1</td>\n",
       "      <td>...</td>\n",
       "      <td>3</td>\n",
       "      <td>married</td>\n",
       "      <td>40423</td>\n",
       "      <td>8</td>\n",
       "      <td>Cut Russet Potatoes Steam N' Mash</td>\n",
       "      <td>116</td>\n",
       "      <td>1</td>\n",
       "      <td>1.1</td>\n",
       "      <td>south</td>\n",
       "      <td>morning</td>\n",
       "    </tr>\n",
       "    <tr>\n",
       "      <th>4</th>\n",
       "      <td>431534</td>\n",
       "      <td>1</td>\n",
       "      <td>prior</td>\n",
       "      <td>5</td>\n",
       "      <td>4</td>\n",
       "      <td>15</td>\n",
       "      <td>28.0</td>\n",
       "      <td>196</td>\n",
       "      <td>1</td>\n",
       "      <td>1</td>\n",
       "      <td>...</td>\n",
       "      <td>3</td>\n",
       "      <td>married</td>\n",
       "      <td>40423</td>\n",
       "      <td>8</td>\n",
       "      <td>Cut Russet Potatoes Steam N' Mash</td>\n",
       "      <td>116</td>\n",
       "      <td>1</td>\n",
       "      <td>1.1</td>\n",
       "      <td>south</td>\n",
       "      <td>afternoon</td>\n",
       "    </tr>\n",
       "  </tbody>\n",
       "</table>\n",
       "<p>5 rows × 39 columns</p>\n",
       "</div>"
      ],
      "text/plain": [
       "   order_id user_id eval_set  order_number  orders_day_of_week  \\\n",
       "0   2539329       1    prior             1                   2   \n",
       "1   2398795       1    prior             2                   3   \n",
       "2    473747       1    prior             3                   3   \n",
       "3   2254736       1    prior             4                   4   \n",
       "4    431534       1    prior             5                   4   \n",
       "\n",
       "   order_hour_of_day  days_since_prior_order  product_id_x  add_to_cart_order  \\\n",
       "0                  8                     NaN           196                  1   \n",
       "1                  7                    15.0           196                  1   \n",
       "2                 12                    21.0           196                  1   \n",
       "3                  7                    29.0           196                  1   \n",
       "4                 15                    28.0           196                  1   \n",
       "\n",
       "   reordered  ...  no_of_dependants marital_status  income  product_id_y  \\\n",
       "0          0  ...                 3        married   40423             8   \n",
       "1          1  ...                 3        married   40423             8   \n",
       "2          1  ...                 3        married   40423             8   \n",
       "3          1  ...                 3        married   40423             8   \n",
       "4          1  ...                 3        married   40423             8   \n",
       "\n",
       "                      product_name_y aisle_id_y department_id_y prices_y  \\\n",
       "0  Cut Russet Potatoes Steam N' Mash        116               1      1.1   \n",
       "1  Cut Russet Potatoes Steam N' Mash        116               1      1.1   \n",
       "2  Cut Russet Potatoes Steam N' Mash        116               1      1.1   \n",
       "3  Cut Russet Potatoes Steam N' Mash        116               1      1.1   \n",
       "4  Cut Russet Potatoes Steam N' Mash        116               1      1.1   \n",
       "\n",
       "  region  time_of_day  \n",
       "0  south      morning  \n",
       "1  south      morning  \n",
       "2  south    afternoon  \n",
       "3  south      morning  \n",
       "4  south    afternoon  \n",
       "\n",
       "[5 rows x 39 columns]"
      ]
     },
     "execution_count": 46,
     "metadata": {},
     "output_type": "execute_result"
    }
   ],
   "source": [
    "df_orders.head()"
   ]
  },
  {
   "cell_type": "code",
   "execution_count": 47,
   "id": "19d1af74",
   "metadata": {},
   "outputs": [
    {
     "data": {
      "text/plain": [
       "<AxesSubplot:>"
      ]
     },
     "execution_count": 47,
     "metadata": {},
     "output_type": "execute_result"
    },
    {
     "data": {
      "image/png": "[encoded data removed]",
      "text/plain": [
       "<Figure size 432x288 with 1 Axes>"
      ]
     },
     "metadata": {
      "needs_background": "light"
     },
     "output_type": "display_data"
    }
   ],
   "source": [
    "df_orders['time_of_day'].value_counts().sort_values().plot.barh()"
   ]
  },
  {
   "cell_type": "markdown",
   "id": "5c418d6a",
   "metadata": {},
   "source": [
    "Most orders are between 6 am and 5am and the fewest are between 12am and 6 am"
   ]
  },
  {
   "cell_type": "code",
   "execution_count": 48,
   "id": "37099ecb",
   "metadata": {},
   "outputs": [
    {
     "name": "stdout",
     "output_type": "stream",
     "text": [
      "<class 'pandas.core.frame.DataFrame'>\n",
      "Int64Index: 30964564 entries, 0 to 32380882\n",
      "Data columns (total 40 columns):\n",
      " #   Column                  Dtype  \n",
      "---  ------                  -----  \n",
      " 0   order_id                int64  \n",
      " 1   user_id                 object \n",
      " 2   eval_set                object \n",
      " 3   order_number            int64  \n",
      " 4   orders_day_of_week      int64  \n",
      " 5   order_hour_of_day       int64  \n",
      " 6   days_since_prior_order  float64\n",
      " 7   product_id_x            int64  \n",
      " 8   add_to_cart_order       int64  \n",
      " 9   reordered               int64  \n",
      " 10  Unnamed: 0_x            int64  \n",
      " 11  product_name_x          object \n",
      " 12  aisle_id_x              int64  \n",
      " 13  department_id_x         int64  \n",
      " 14  prices_x                float64\n",
      " 15  price_range_loc         object \n",
      " 16  busiest_day             object \n",
      " 17  busiest_days            object \n",
      " 18  busiest_period_of_day   object \n",
      " 19  max_order               int64  \n",
      " 20  loyalty_flag            object \n",
      " 21  average_spending        float64\n",
      " 22  spending_flag           object \n",
      " 23  purchase_frequency      float64\n",
      " 24  frequency_flag          object \n",
      " 25  gender                  object \n",
      " 26  state                   object \n",
      " 27  age                     int8   \n",
      " 28  date_joined             object \n",
      " 29  no_of_dependants        int8   \n",
      " 30  marital_status          object \n",
      " 31  income                  int32  \n",
      " 32  product_id_y            int64  \n",
      " 33  product_name_y          object \n",
      " 34  aisle_id_y              int64  \n",
      " 35  department_id_y         int64  \n",
      " 36  prices_y                float64\n",
      " 37  region                  object \n",
      " 38  exclusion_flag          object \n",
      " 39  age_range               object \n",
      "dtypes: float64(5), int32(1), int64(14), int8(2), object(18)\n",
      "memory usage: 8.9+ GB\n"
     ]
    }
   ],
   "source": [
    "df3.info()"
   ]
  },
  {
   "cell_type": "code",
   "execution_count": 53,
   "id": "35b21b63",
   "metadata": {},
   "outputs": [
    {
     "name": "stdout",
     "output_type": "stream",
     "text": [
      "[ 7 16 19 17  4 14 13  3  1  9 15 11 12 20  6  5 21  8 18  2 10]\n"
     ]
    }
   ],
   "source": [
    "print(df3['department_id_x'].unique())"
   ]
  },
  {
   "cell_type": "code",
   "execution_count": 55,
   "id": "c85dc353",
   "metadata": {},
   "outputs": [],
   "source": [
    "# first, identify all the products purchased from the pet department\n",
    "df3['pet_stuff'] = [1 if x == 'pets' else 0 for x in df3['department_id_x']]"
   ]
  },
  {
   "cell_type": "code",
   "execution_count": 56,
   "id": "db40358f",
   "metadata": {},
   "outputs": [],
   "source": [
    "# then, apply it across the whole customer's orders\n",
    "df3['pet_stuff'] = df3.groupby(['user_id'])['pet_stuff'].transform('max')"
   ]
  },
  {
   "cell_type": "code",
   "execution_count": 57,
   "id": "9bc0cb8e",
   "metadata": {},
   "outputs": [],
   "source": [
    "# reduce datatype to save RAM\n",
    "df3['pet_stuff'] = df3['pet_stuff'].astype('int8')"
   ]
  },
  {
   "cell_type": "markdown",
   "id": "a047ca60",
   "metadata": {},
   "source": [
    "## Baby flag"
   ]
  },
  {
   "cell_type": "code",
   "execution_count": 58,
   "id": "a4cfd2f9",
   "metadata": {},
   "outputs": [],
   "source": [
    "# first, identify all the products purchased from the baby department\n",
    "df3['baby_stuff'] = [1 if x == 'babies' else 0 for x in df3['department_id_x']]"
   ]
  },
  {
   "cell_type": "code",
   "execution_count": 59,
   "id": "a17c131a",
   "metadata": {},
   "outputs": [],
   "source": [
    "# then, apply it across the whole customer's orders\n",
    "df3['baby_stuff'] = df3.groupby(['user_id'])['baby_stuff'].transform('max')"
   ]
  },
  {
   "cell_type": "code",
   "execution_count": 60,
   "id": "2947faaf",
   "metadata": {},
   "outputs": [],
   "source": [
    "# change data type to save RAM\n",
    "df3['baby_stuff'] = df3['baby_stuff'].astype('int8')"
   ]
  },
  {
   "cell_type": "markdown",
   "id": "be5eccc0",
   "metadata": {},
   "source": [
    "### Snack flag"
   ]
  },
  {
   "cell_type": "code",
   "execution_count": 61,
   "id": "d3d428df",
   "metadata": {},
   "outputs": [],
   "source": [
    "# first, identify all the products purchased from the snacks department\n",
    "df3['snacks'] = [1 if x == 'snacks' else 0 for x in df3['department_id_x']]"
   ]
  },
  {
   "cell_type": "code",
   "execution_count": 62,
   "id": "f2dfe82a",
   "metadata": {},
   "outputs": [],
   "source": [
    "# then, apply it just across the individual order\n",
    "df3['snacks'] = df3.groupby(['order_id'])['snacks'].transform('max')"
   ]
  },
  {
   "cell_type": "code",
   "execution_count": 63,
   "id": "bea74090",
   "metadata": {},
   "outputs": [],
   "source": [
    "# change datatype to reduce RAM\n",
    "df3['snacks'] = df3['snacks'].astype('int8')"
   ]
  },
  {
   "cell_type": "markdown",
   "id": "b9b94a5a",
   "metadata": {},
   "source": [
    "### Grouping by income"
   ]
  },
  {
   "cell_type": "markdown",
   "id": "cf51ccc1",
   "metadata": {},
   "source": [
    "Income Breakdown\n",
    "\n",
    "* Below 52,200 = Low Income\n",
    "\n",
    "* Between 52,200 & 156,600 = Middle Income\n",
    "\n",
    "* Above 156,600 = High Income"
   ]
  },
  {
   "cell_type": "code",
   "execution_count": 65,
   "id": "4171d184",
   "metadata": {},
   "outputs": [
    {
     "data": {
      "text/plain": [
       "Middle Income    24541393\n",
       "Low Income        3691708\n",
       "High Income       2731463\n",
       "Name: income_flag, dtype: int64"
      ]
     },
     "execution_count": 65,
     "metadata": {},
     "output_type": "execute_result"
    }
   ],
   "source": [
    "# creating income flags\n",
    "df3.loc[df3['income']<52200, 'income_flag'] = 'Low Income'\n",
    "df3.loc[(df3['income']>=52200) & (df3['income']<=156600), 'income_flag'] = 'Middle Income' \n",
    "df3.loc[df3['income']>156600, 'income_flag'] = 'High Income'\n",
    "df3['income_flag'].value_counts(dropna = False)"
   ]
  },
  {
   "cell_type": "markdown",
   "id": "eaaa8699",
   "metadata": {},
   "source": [
    "Most instacart customers fall in the middle income bracket. The least fall into the high income bracket"
   ]
  },
  {
   "cell_type": "markdown",
   "id": "3886abc2",
   "metadata": {},
   "source": [
    "### Final overview"
   ]
  },
  {
   "cell_type": "code",
   "execution_count": 66,
   "id": "b800f66e",
   "metadata": {},
   "outputs": [
    {
     "data": {
      "text/html": [
       "<div>\n",
       "<style scoped>\n",
       "    .dataframe tbody tr th:only-of-type {\n",
       "        vertical-align: middle;\n",
       "    }\n",
       "\n",
       "    .dataframe tbody tr th {\n",
       "        vertical-align: top;\n",
       "    }\n",
       "\n",
       "    .dataframe thead th {\n",
       "        text-align: right;\n",
       "    }\n",
       "</style>\n",
       "<table border=\"1\" class=\"dataframe\">\n",
       "  <thead>\n",
       "    <tr style=\"text-align: right;\">\n",
       "      <th></th>\n",
       "      <th>order_id</th>\n",
       "      <th>user_id</th>\n",
       "      <th>eval_set</th>\n",
       "      <th>order_number</th>\n",
       "      <th>orders_day_of_week</th>\n",
       "      <th>order_hour_of_day</th>\n",
       "      <th>days_since_prior_order</th>\n",
       "      <th>product_id_x</th>\n",
       "      <th>add_to_cart_order</th>\n",
       "      <th>reordered</th>\n",
       "      <th>...</th>\n",
       "      <th>aisle_id_y</th>\n",
       "      <th>department_id_y</th>\n",
       "      <th>prices_y</th>\n",
       "      <th>region</th>\n",
       "      <th>exclusion_flag</th>\n",
       "      <th>age_range</th>\n",
       "      <th>pet_stuff</th>\n",
       "      <th>baby_stuff</th>\n",
       "      <th>snacks</th>\n",
       "      <th>income_flag</th>\n",
       "    </tr>\n",
       "  </thead>\n",
       "  <tbody>\n",
       "    <tr>\n",
       "      <th>0</th>\n",
       "      <td>2539329</td>\n",
       "      <td>1</td>\n",
       "      <td>prior</td>\n",
       "      <td>1</td>\n",
       "      <td>2</td>\n",
       "      <td>8</td>\n",
       "      <td>NaN</td>\n",
       "      <td>196</td>\n",
       "      <td>1</td>\n",
       "      <td>0</td>\n",
       "      <td>...</td>\n",
       "      <td>116</td>\n",
       "      <td>1</td>\n",
       "      <td>1.1</td>\n",
       "      <td>south</td>\n",
       "      <td>Normal activity customer</td>\n",
       "      <td>1</td>\n",
       "      <td>0</td>\n",
       "      <td>0</td>\n",
       "      <td>0</td>\n",
       "      <td>Low Income</td>\n",
       "    </tr>\n",
       "    <tr>\n",
       "      <th>1</th>\n",
       "      <td>2398795</td>\n",
       "      <td>1</td>\n",
       "      <td>prior</td>\n",
       "      <td>2</td>\n",
       "      <td>3</td>\n",
       "      <td>7</td>\n",
       "      <td>15.0</td>\n",
       "      <td>196</td>\n",
       "      <td>1</td>\n",
       "      <td>1</td>\n",
       "      <td>...</td>\n",
       "      <td>116</td>\n",
       "      <td>1</td>\n",
       "      <td>1.1</td>\n",
       "      <td>south</td>\n",
       "      <td>Normal activity customer</td>\n",
       "      <td>1</td>\n",
       "      <td>0</td>\n",
       "      <td>0</td>\n",
       "      <td>0</td>\n",
       "      <td>Low Income</td>\n",
       "    </tr>\n",
       "    <tr>\n",
       "      <th>2</th>\n",
       "      <td>473747</td>\n",
       "      <td>1</td>\n",
       "      <td>prior</td>\n",
       "      <td>3</td>\n",
       "      <td>3</td>\n",
       "      <td>12</td>\n",
       "      <td>21.0</td>\n",
       "      <td>196</td>\n",
       "      <td>1</td>\n",
       "      <td>1</td>\n",
       "      <td>...</td>\n",
       "      <td>116</td>\n",
       "      <td>1</td>\n",
       "      <td>1.1</td>\n",
       "      <td>south</td>\n",
       "      <td>Normal activity customer</td>\n",
       "      <td>1</td>\n",
       "      <td>0</td>\n",
       "      <td>0</td>\n",
       "      <td>0</td>\n",
       "      <td>Low Income</td>\n",
       "    </tr>\n",
       "    <tr>\n",
       "      <th>3</th>\n",
       "      <td>2254736</td>\n",
       "      <td>1</td>\n",
       "      <td>prior</td>\n",
       "      <td>4</td>\n",
       "      <td>4</td>\n",
       "      <td>7</td>\n",
       "      <td>29.0</td>\n",
       "      <td>196</td>\n",
       "      <td>1</td>\n",
       "      <td>1</td>\n",
       "      <td>...</td>\n",
       "      <td>116</td>\n",
       "      <td>1</td>\n",
       "      <td>1.1</td>\n",
       "      <td>south</td>\n",
       "      <td>Normal activity customer</td>\n",
       "      <td>1</td>\n",
       "      <td>0</td>\n",
       "      <td>0</td>\n",
       "      <td>0</td>\n",
       "      <td>Low Income</td>\n",
       "    </tr>\n",
       "    <tr>\n",
       "      <th>4</th>\n",
       "      <td>431534</td>\n",
       "      <td>1</td>\n",
       "      <td>prior</td>\n",
       "      <td>5</td>\n",
       "      <td>4</td>\n",
       "      <td>15</td>\n",
       "      <td>28.0</td>\n",
       "      <td>196</td>\n",
       "      <td>1</td>\n",
       "      <td>1</td>\n",
       "      <td>...</td>\n",
       "      <td>116</td>\n",
       "      <td>1</td>\n",
       "      <td>1.1</td>\n",
       "      <td>south</td>\n",
       "      <td>Normal activity customer</td>\n",
       "      <td>1</td>\n",
       "      <td>0</td>\n",
       "      <td>0</td>\n",
       "      <td>0</td>\n",
       "      <td>Low Income</td>\n",
       "    </tr>\n",
       "  </tbody>\n",
       "</table>\n",
       "<p>5 rows × 44 columns</p>\n",
       "</div>"
      ],
      "text/plain": [
       "   order_id user_id eval_set  order_number  orders_day_of_week  \\\n",
       "0   2539329       1    prior             1                   2   \n",
       "1   2398795       1    prior             2                   3   \n",
       "2    473747       1    prior             3                   3   \n",
       "3   2254736       1    prior             4                   4   \n",
       "4    431534       1    prior             5                   4   \n",
       "\n",
       "   order_hour_of_day  days_since_prior_order  product_id_x  add_to_cart_order  \\\n",
       "0                  8                     NaN           196                  1   \n",
       "1                  7                    15.0           196                  1   \n",
       "2                 12                    21.0           196                  1   \n",
       "3                  7                    29.0           196                  1   \n",
       "4                 15                    28.0           196                  1   \n",
       "\n",
       "   reordered  ...  aisle_id_y department_id_y  prices_y  region  \\\n",
       "0          0  ...         116               1       1.1   south   \n",
       "1          1  ...         116               1       1.1   south   \n",
       "2          1  ...         116               1       1.1   south   \n",
       "3          1  ...         116               1       1.1   south   \n",
       "4          1  ...         116               1       1.1   south   \n",
       "\n",
       "             exclusion_flag age_range pet_stuff baby_stuff snacks  income_flag  \n",
       "0  Normal activity customer         1         0          0      0   Low Income  \n",
       "1  Normal activity customer         1         0          0      0   Low Income  \n",
       "2  Normal activity customer         1         0          0      0   Low Income  \n",
       "3  Normal activity customer         1         0          0      0   Low Income  \n",
       "4  Normal activity customer         1         0          0      0   Low Income  \n",
       "\n",
       "[5 rows x 44 columns]"
      ]
     },
     "execution_count": 66,
     "metadata": {},
     "output_type": "execute_result"
    }
   ],
   "source": [
    "df3.head()"
   ]
  },
  {
   "cell_type": "code",
   "execution_count": 67,
   "id": "982b66ad",
   "metadata": {},
   "outputs": [
    {
     "name": "stdout",
     "output_type": "stream",
     "text": [
      "<class 'pandas.core.frame.DataFrame'>\n",
      "Int64Index: 32404859 entries, 0 to 32403040\n",
      "Data columns (total 42 columns):\n",
      " #   Column                  Dtype   \n",
      "---  ------                  -----   \n",
      " 0   department_id           int64   \n",
      " 1   order_id                int64   \n",
      " 2   user_id                 object  \n",
      " 3   eval_set                object  \n",
      " 4   order_number            int64   \n",
      " 5   orders_day_of_week      int64   \n",
      " 6   order_hour_of_day       int64   \n",
      " 7   days_since_prior_order  float64 \n",
      " 8   product_id_x            int64   \n",
      " 9   add_to_cart_order       int64   \n",
      " 10  reordered               int64   \n",
      " 11  Unnamed: 0_x            int64   \n",
      " 12  product_name_x          object  \n",
      " 13  aisle_id_x              int64   \n",
      " 14  department_id_x         int64   \n",
      " 15  prices_x                float64 \n",
      " 16  _merge                  category\n",
      " 17  price_range_loc         object  \n",
      " 18  busiest_day             object  \n",
      " 19  busiest_days            object  \n",
      " 20  busiest_period_of_day   object  \n",
      " 21  max_order               int64   \n",
      " 22  loyalty_flag            object  \n",
      " 23  average_spending        float64 \n",
      " 24  spending_flag           object  \n",
      " 25  purchase_frequency      float64 \n",
      " 26  frequency_flag          object  \n",
      " 27  first_name              object  \n",
      " 28  surname                 object  \n",
      " 29  gender                  object  \n",
      " 30  state                   object  \n",
      " 31  age                     int8    \n",
      " 32  date_joined             object  \n",
      " 33  no_of_dependants        int8    \n",
      " 34  marital_status          object  \n",
      " 35  income                  int32   \n",
      " 36  Unnamed: 0_y            int8    \n",
      " 37  product_id_y            int64   \n",
      " 38  product_name_y          object  \n",
      " 39  aisle_id_y              int64   \n",
      " 40  department_id_y         int64   \n",
      " 41  prices_y                float64 \n",
      "dtypes: category(1), float64(5), int32(1), int64(15), int8(3), object(17)\n",
      "memory usage: 9.4+ GB\n"
     ]
    }
   ],
   "source": [
    "df.info()"
   ]
  },
  {
   "cell_type": "code",
   "execution_count": 68,
   "id": "09599007",
   "metadata": {},
   "outputs": [
    {
     "data": {
      "text/plain": [
       "(30964564, 44)"
      ]
     },
     "execution_count": 68,
     "metadata": {},
     "output_type": "execute_result"
    }
   ],
   "source": [
    "# check shapes before part two\n",
    "df3.shape"
   ]
  },
  {
   "cell_type": "code",
   "execution_count": 69,
   "id": "c02151e1",
   "metadata": {},
   "outputs": [
    {
     "data": {
      "text/plain": [
       "(32404859, 42)"
      ]
     },
     "execution_count": 69,
     "metadata": {},
     "output_type": "execute_result"
    }
   ],
   "source": [
    "df.shape"
   ]
  },
  {
   "cell_type": "code",
   "execution_count": 70,
   "id": "0d487234",
   "metadata": {},
   "outputs": [
    {
     "data": {
      "text/plain": [
       "(4, 5)"
      ]
     },
     "execution_count": 70,
     "metadata": {},
     "output_type": "execute_result"
    }
   ],
   "source": [
    "df_region.shape"
   ]
  },
  {
   "cell_type": "markdown",
   "id": "47a5e5ea",
   "metadata": {},
   "source": [
    "# Export"
   ]
  },
  {
   "cell_type": "code",
   "execution_count": 71,
   "id": "f6660e7f",
   "metadata": {},
   "outputs": [
    {
     "name": "stdout",
     "output_type": "stream",
     "text": [
      "CPU times: total: 31.8 s\n",
      "Wall time: 37.1 s\n"
     ]
    }
   ],
   "source": [
    "%%time\n",
    "# exporting main dataframe df3 to pickle file\n",
    "# this set contains all the normal activity customers and additional flags/profiling\n",
    "df3.to_pickle(os.path.join(path, '02 Data','Prepared Data', '4.10_part1_javierescalante.pkl'))"
   ]
  },
  {
   "cell_type": "code",
   "execution_count": 72,
   "id": "cf7d7407",
   "metadata": {},
   "outputs": [
    {
     "name": "stdout",
     "output_type": "stream",
     "text": [
      "CPU times: total: 0 ns\n",
      "Wall time: 499 µs\n"
     ]
    }
   ],
   "source": [
    "%%time\n",
    "# exporting region dataframe df_region to pickle file\n",
    "# this set contains all the region information based on the 30% sample size. \n",
    "df_region.to_pickle(os.path.join(path, '02 Data','Prepared Data', '4.10_region_javierEscalante_final.pkl'))"
   ]
  },
  {
   "cell_type": "code",
   "execution_count": null,
   "id": "6694e770",
   "metadata": {},
   "outputs": [],
   "source": []
  }
 ],
 "metadata": {
  "kernelspec": {
   "display_name": "Python 3 (ipykernel)",
   "language": "python",
   "name": "python3"
  },
  "language_info": {
   "codemirror_mode": {
    "name": "ipython",
    "version": 3
   },
   "file_extension": ".py",
   "mimetype": "text/x-python",
   "name": "python",
   "nbconvert_exporter": "python",
   "pygments_lexer": "ipython3",
   "version": "3.9.12"
  }
 },
 "nbformat": 4,
 "nbformat_minor": 5
}
